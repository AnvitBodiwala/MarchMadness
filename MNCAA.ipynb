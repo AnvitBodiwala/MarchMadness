{
 "cells": [
  {
   "cell_type": "code",
   "execution_count": 69,
   "metadata": {
    "collapsed": true
   },
   "outputs": [],
   "source": [
    "import pandas as pd \n",
    "%matplotlib inline\n",
    "import matplotlib.pyplot as plt\n"
   ]
  },
  {
   "cell_type": "code",
   "execution_count": 70,
   "metadata": {
    "collapsed": true
   },
   "outputs": [],
   "source": [
    "RegSeasonResults = pd.read_csv(\"RegularSeasonCompactResults.csv\")\n",
    "teams = pd.read_csv(\"teams.csv\")"
   ]
  },
  {
   "cell_type": "code",
   "execution_count": 94,
   "metadata": {},
   "outputs": [],
   "source": [
    "RegSeasonResults['WLocCode'] = 1 \n",
    "# data['sex'].replace([0,1],['Female','Male'],inplace=True)\n",
    "RegSeasonResults.WLoc.replace('N',0,inplace=True)\n",
    "RegSeasonResults.WLoc.replace('A',-1,inplace=True)\n",
    "RegSeasonResults.WLoc.replace('H',1,inplace=True)\n",
    "\n",
    "\n"
   ]
  },
  {
   "cell_type": "code",
   "execution_count": 98,
   "metadata": {},
   "outputs": [],
   "source": [
    "RegSeasonResults['WElo'] = 0.000000000000 \n",
    "RegSeasonResults['LElo'] = 0.000000000000\n",
    "temp = RegSeasonResults[1:3737]\n"
   ]
  },
  {
   "cell_type": "code",
   "execution_count": 99,
   "metadata": {
    "collapsed": true
   },
   "outputs": [],
   "source": [
    "elo_dict = {}\n",
    "k = 5"
   ]
  },
  {
   "cell_type": "code",
   "execution_count": 100,
   "metadata": {},
   "outputs": [
    {
     "data": {
      "text/plain": [
       "Season        int64\n",
       "DayNum        int64\n",
       "WTeamID       int64\n",
       "WScore        int64\n",
       "LTeamID       int64\n",
       "LScore        int64\n",
       "WLoc          int64\n",
       "NumOT         int64\n",
       "WLocCode      int64\n",
       "WElo        float64\n",
       "LElo        float64\n",
       "dtype: object"
      ]
     },
     "execution_count": 100,
     "metadata": {},
     "output_type": "execute_result"
    }
   ],
   "source": [
    "for i in teams.TeamID:\n",
    "    elo_dict[i] = 0\n",
    "i = 0\n",
    "RegSeasonResults.dtypes"
   ]
  },
  {
   "cell_type": "code",
   "execution_count": 101,
   "metadata": {
    "scrolled": true
   },
   "outputs": [],
   "source": [
    "for j in temp.iterrows():\n",
    "    ###########################################################################################\n",
    "    #######New logic####### \n",
    "    \n",
    "    winner_rating = pow(10,(elo_dict[j[1].WTeamID])/400)\n",
    "    loser_rating = pow(10,(elo_dict[j[1].LTeamID])/400)\n",
    "    \n",
    "    expected_winner = winner_rating/(winner_rating+loser_rating) \n",
    "    expected_loser = loser_rating/(winner_rating+loser_rating)\n",
    "    \n",
    "    winner = 1\n",
    "    loser = 0\n",
    "    \n",
    "    new_winner_rating = elo_dict[j[1].WTeamID] + k * (winner-expected_winner)\n",
    "    new_loser_rating = elo_dict[j[1].LTeamID] + k * (loser-expected_loser)\n",
    "    ###########################################################################################\n",
    "#     a =  1/(1+pow(10,((elo_dict[j[1].WTeamID]-elo_dict[j[1].LTeamID])/100)))\n",
    "#     b =  1/(1+pow(10,((elo_dict[j[1].LTeamID]-elo_dict[j[1].WTeamID])/100)))\n",
    "#     a_new = elo_dict[j[1].WTeamID] + k*(j[1].WScore/100 - a)\n",
    "#     b_new = elo_dict[j[1].LTeamID] - k*(j[1].LScore/100 - b)\n",
    "    elo_dict[j[1].WTeamID] = new_winner_rating\n",
    "    elo_dict[j[1].LTeamID] = new_loser_rating\n",
    "\n",
    "    temp.iat[i,9] = new_winner_rating\n",
    "    temp.iat[i,10] = new_loser_rating\n",
    "\n",
    "    i = i + 1\n",
    "#     if (j[1].WTeamID == 1102 or j[1].LTeamID == 1102):\n",
    "#         print (j[1].WScore)\n",
    "#         print (j[1].LScore)\n",
    "#         print(elo_dict[1102])\n",
    "    "
   ]
  },
  {
   "cell_type": "code",
   "execution_count": 102,
   "metadata": {},
   "outputs": [
    {
     "data": {
      "text/plain": [
       "<matplotlib.axes._subplots.AxesSubplot at 0x110dc1240>"
      ]
     },
     "execution_count": 102,
     "metadata": {},
     "output_type": "execute_result"
    },
    {
     "data": {
      "image/png": "[encoded data removed]",
      "text/plain": [
       "<matplotlib.figure.Figure at 0x11e99e668>"
      ]
     },
     "metadata": {},
     "output_type": "display_data"
    }
   ],
   "source": [
    "temp.groupby('WTeamID')['WElo'].mean().nlargest(10).plot(kind='bar')"
   ]
  },
  {
   "cell_type": "code",
   "execution_count": null,
   "metadata": {
    "collapsed": true
   },
   "outputs": [],
   "source": []
  }
 ],
 "metadata": {
  "kernelspec": {
   "display_name": "Python 3",
   "language": "python",
   "name": "python3"
  },
  "language_info": {
   "codemirror_mode": {
    "name": "ipython",
    "version": 3
   },
   "file_extension": ".py",
   "mimetype": "text/x-python",
   "name": "python",
   "nbconvert_exporter": "python",
   "pygments_lexer": "ipython3",
   "version": "3.6.2"
  }
 },
 "nbformat": 4,
 "nbformat_minor": 2
}
