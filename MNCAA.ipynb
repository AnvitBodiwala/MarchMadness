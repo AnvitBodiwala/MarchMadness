{
 "cells": [
  {
   "cell_type": "code",
   "execution_count": 40,
   "metadata": {
    "collapsed": true
   },
   "outputs": [],
   "source": [
    "import pandas as pd \n",
    "%matplotlib inline\n",
    "import matplotlib.pyplot as plt\n",
    "import numpy as np\n"
   ]
  },
  {
   "cell_type": "code",
   "execution_count": 41,
   "metadata": {},
   "outputs": [
    {
     "data": {
      "text/plain": [
       "TeamID            int64\n",
       "TeamName         object\n",
       "FirstD1Season     int64\n",
       "LastD1Season      int64\n",
       "dtype: object"
      ]
     },
     "execution_count": 41,
     "metadata": {},
     "output_type": "execute_result"
    }
   ],
   "source": [
    "RegSeasonResults = pd.read_csv(\"RegularSeasonCompactResults.csv\")\n",
    "teams = pd.read_csv(\"teams.csv\")\n",
    "teams.dtypes"
   ]
  },
  {
   "cell_type": "code",
   "execution_count": 54,
   "metadata": {},
   "outputs": [
    {
     "data": {
      "text/plain": [
       "Season        int64\n",
       "DayNum        int64\n",
       "WTeamID       int64\n",
       "WScore        int64\n",
       "LTeamID       int64\n",
       "LScore        int64\n",
       "WLoc          int64\n",
       "NumOT         int64\n",
       "WLocCode      int64\n",
       "WElo        float64\n",
       "LElo        float64\n",
       "dtype: object"
      ]
     },
     "execution_count": 54,
     "metadata": {},
     "output_type": "execute_result"
    }
   ],
   "source": [
    "RegSeasonResults.dtypes"
   ]
  },
  {
   "cell_type": "code",
   "execution_count": null,
   "metadata": {
    "collapsed": true
   },
   "outputs": [],
   "source": []
  },
  {
   "cell_type": "code",
   "execution_count": 42,
   "metadata": {
    "collapsed": true
   },
   "outputs": [],
   "source": [
    "RegSeasonResults['WLocCode'] = 1 \n",
    "# data['sex'].replace([0,1],['Female','Male'],inplace=True)\n",
    "RegSeasonResults.WLoc.replace('N',0,inplace=True)\n",
    "RegSeasonResults.WLoc.replace('A',-1,inplace=True)\n",
    "RegSeasonResults.WLoc.replace('H',1,inplace=True)\n",
    "\n"
   ]
  },
  {
   "cell_type": "code",
   "execution_count": 43,
   "metadata": {},
   "outputs": [],
   "source": [
    "seasonNumber = 1985\n",
    "index_for_each_year = []\n",
    "index_for_each_year.append(0)\n",
    "for i in RegSeasonResults.iterrows():\n",
    "    if(i[1].Season == seasonNumber+1):\n",
    "        index_for_each_year.append(i[0])\n",
    "        seasonNumber = seasonNumber + 1\n",
    "  \n"
   ]
  },
  {
   "cell_type": "code",
   "execution_count": 44,
   "metadata": {},
   "outputs": [],
   "source": [
    "RegSeasonResults['WElo'] = 0.000000000000 \n",
    "RegSeasonResults['LElo'] = 0.000000000000\n",
    "seasonNumber = 1985\n",
    "for i in range(len(index_for_each_year)-1):\n",
    "    temp = RegSeasonResults[index_for_each_year[i]:index_for_each_year[i+1]]\n",
    "    elo_dict = {}\n",
    "    k = 5    \n",
    "    for j in teams.TeamID:\n",
    "        elo_dict[j] = 0\n",
    "    x = 0\n",
    "    for j in temp.iterrows():\n",
    "    ###########################################################################################\n",
    "    #######New logic####### \n",
    "    \n",
    "        winner_rating = pow(10,(elo_dict[j[1].WTeamID])/400)\n",
    "        loser_rating = pow(10,(elo_dict[j[1].LTeamID])/400)\n",
    "    \n",
    "        expected_winner = winner_rating/(winner_rating+loser_rating) \n",
    "        expected_loser = loser_rating/(winner_rating+loser_rating)\n",
    "    \n",
    "        winner = 1\n",
    "        loser = 0\n",
    "    \n",
    "        new_winner_rating = elo_dict[j[1].WTeamID] + k * (winner-expected_winner)\n",
    "        new_loser_rating = elo_dict[j[1].LTeamID] + k * (loser-expected_loser)\n",
    "\n",
    "\n",
    "        elo_dict[j[1].WTeamID] = new_winner_rating\n",
    "        elo_dict[j[1].LTeamID] = new_loser_rating\n",
    "\n",
    "        \n",
    "        temp.iat[x,9] = new_winner_rating\n",
    "        temp.iat[x,10] = new_loser_rating\n",
    "\n",
    "        x = x + 1\n",
    "    \n",
    "    row_incr = 0\n",
    "    teams[str(i+1985)] = 0.000000000000\n",
    "    for row in teams.iterrows():\n",
    "        teams.iat[row_incr,i+4] = elo_dict[row[1].TeamID]\n",
    "        row_incr = row_incr + 1\n",
    "#     if (j[1].WTeamID == 1102 or j[1].LTeamID == 1102):\n",
    "#         print (j[1].WScore)\n",
    "#         print (j[1].LScore)\n",
    "#         print(elo_dict[1102])\n",
    "    \n",
    "    "
   ]
  },
  {
   "cell_type": "code",
   "execution_count": 7,
   "metadata": {},
   "outputs": [
    {
     "data": {
      "text/plain": [
       "Season        int64\n",
       "DayNum        int64\n",
       "WTeamID       int64\n",
       "WScore        int64\n",
       "LTeamID       int64\n",
       "LScore        int64\n",
       "WLoc          int64\n",
       "NumOT         int64\n",
       "WLocCode      int64\n",
       "WElo        float64\n",
       "LElo        float64\n",
       "dtype: object"
      ]
     },
     "execution_count": 7,
     "metadata": {},
     "output_type": "execute_result"
    }
   ],
   "source": [
    "for i in teams.TeamID:\n",
    "    elo_dict[i] = 0\n",
    "i = 0\n",
    "RegSeasonResults.dtypes"
   ]
  },
  {
   "cell_type": "code",
   "execution_count": 8,
   "metadata": {
    "collapsed": true,
    "scrolled": true
   },
   "outputs": [],
   "source": [
    "for j in temp.iterrows():\n",
    "    ###########################################################################################\n",
    "    #######New logic####### \n",
    "    \n",
    "    winner_rating = pow(10,(elo_dict[j[1].WTeamID])/400)\n",
    "    loser_rating = pow(10,(elo_dict[j[1].LTeamID])/400)\n",
    "    \n",
    "    expected_winner = winner_rating/(winner_rating+loser_rating) \n",
    "    expected_loser = loser_rating/(winner_rating+loser_rating)\n",
    "    \n",
    "    winner = 1\n",
    "    loser = 0\n",
    "    \n",
    "    new_winner_rating = elo_dict[j[1].WTeamID] + k * (winner-expected_winner)\n",
    "    new_loser_rating = elo_dict[j[1].LTeamID] + k * (loser-expected_loser)\n",
    "    ###########################################################################################\n",
    "#     a =  1/(1+pow(10,((elo_dict[j[1].WTeamID]-elo_dict[j[1].LTeamID])/100)))\n",
    "#     b =  1/(1+pow(10,((elo_dict[j[1].LTeamID]-elo_dict[j[1].WTeamID])/100)))\n",
    "#     a_new = elo_dict[j[1].WTeamID] + k*(j[1].WScore/100 - a)\n",
    "#     b_new = elo_dict[j[1].LTeamID] - k*(j[1].LScore/100 - b)\n",
    "    elo_dict[j[1].WTeamID] = new_winner_rating\n",
    "    elo_dict[j[1].LTeamID] = new_loser_rating\n",
    "\n",
    "    temp.iat[i,9] = new_winner_rating\n",
    "    temp.iat[i,10] = new_loser_rating\n",
    "\n",
    "    i = i + 1\n",
    "#     if (j[1].WTeamID == 1102 or j[1].LTeamID == 1102):\n",
    "#         print (j[1].WScore)\n",
    "#         print (j[1].LScore)\n",
    "#         print(elo_dict[1102])\n",
    "    "
   ]
  },
  {
   "cell_type": "code",
   "execution_count": 9,
   "metadata": {},
   "outputs": [
    {
     "data": {
      "text/plain": [
       "<matplotlib.axes._subplots.AxesSubplot at 0x110edb8d0>"
      ]
     },
     "execution_count": 9,
     "metadata": {},
     "output_type": "execute_result"
    },
    {
     "data": {
      "image/png": "[encoded data removed]",
      "text/plain": [
       "<matplotlib.figure.Figure at 0x110edb240>"
      ]
     },
     "metadata": {},
     "output_type": "display_data"
    }
   ],
   "source": [
    "temp.groupby('WTeamID')['WElo'].mean().nlargest(10).plot(kind='bar')"
   ]
  },
  {
   "cell_type": "code",
   "execution_count": 10,
   "metadata": {
    "collapsed": true
   },
   "outputs": [],
   "source": [
    "################################################\n",
    "#This is where the code to compute a final rating of normailsed factors affecting the full \n",
    "#rating goes. \n",
    "#We need a multitude of factors. Elo rating is one of them. We need more because these are historical factors\n",
    "#that consider their form since 1985 which may not be relevant for 2018. \n",
    "#So we need to see the following as well. \n",
    "#Seed,Last 3 year form, wins versus loses in regular season as well as conference championship.\n",
    "#\n",
    "#\n",
    "#\n",
    "#\n"
   ]
  },
  {
   "cell_type": "code",
   "execution_count": 11,
   "metadata": {},
   "outputs": [
    {
     "ename": "SyntaxError",
     "evalue": "unexpected EOF while parsing (<ipython-input-11-ccc63e32bdec>, line 6)",
     "output_type": "error",
     "traceback": [
      "\u001b[0;36m  File \u001b[0;32m\"<ipython-input-11-ccc63e32bdec>\"\u001b[0;36m, line \u001b[0;32m6\u001b[0m\n\u001b[0;31m    \u001b[0m\n\u001b[0m    ^\u001b[0m\n\u001b[0;31mSyntaxError\u001b[0m\u001b[0;31m:\u001b[0m unexpected EOF while parsing\n"
     ]
    }
   ],
   "source": [
    "# finally we create the output file. \n",
    "sub_stage1 = pd.DataFrame()\n",
    "sub_stage1['game'] = {}\n",
    "sub_stage1['probailities'] = {}\n",
    "for i in range():\n",
    "    "
   ]
  },
  {
   "cell_type": "code",
   "execution_count": null,
   "metadata": {
    "collapsed": true
   },
   "outputs": [],
   "source": []
  }
 ],
 "metadata": {
  "kernelspec": {
   "display_name": "Python 3",
   "language": "python",
   "name": "python3"
  },
  "language_info": {
   "codemirror_mode": {
    "name": "ipython",
    "version": 3
   },
   "file_extension": ".py",
   "mimetype": "text/x-python",
   "name": "python",
   "nbconvert_exporter": "python",
   "pygments_lexer": "ipython3",
   "version": "3.6.1"
  }
 },
 "nbformat": 4,
 "nbformat_minor": 2
}
