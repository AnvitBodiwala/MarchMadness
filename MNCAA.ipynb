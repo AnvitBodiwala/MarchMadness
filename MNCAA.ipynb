{
 "cells": [
  {
   "cell_type": "code",
   "execution_count": 128,
   "metadata": {
    "collapsed": true
   },
   "outputs": [],
   "source": [
    "import pandas as pd \n",
    "%matplotlib inline\n",
    "import matplotlib.pyplot as plt\n",
    "import numpy as np\n"
   ]
  },
  {
   "cell_type": "code",
   "execution_count": 129,
   "metadata": {},
   "outputs": [
    {
     "data": {
      "text/plain": [
       "TeamID            int64\n",
       "TeamName         object\n",
       "FirstD1Season     int64\n",
       "LastD1Season      int64\n",
       "dtype: object"
      ]
     },
     "execution_count": 129,
     "metadata": {},
     "output_type": "execute_result"
    }
   ],
   "source": [
    "RegSeasonResults = pd.read_csv(\"/Users/anvitb/Downloads/Stage2UpdatedDataFiles/RegularSeasonCompactResults.csv\")\n",
    "teams = pd.read_csv(\"teams.csv\")\n",
    "teams.dtypes"
   ]
  },
  {
   "cell_type": "code",
   "execution_count": 130,
   "metadata": {
    "collapsed": true
   },
   "outputs": [],
   "source": [
    "RegSeasonResults['WLocCode'] = 1 \n",
    "# data['sex'].replace([0,1],['Female','Male'],inplace=True)\n",
    "RegSeasonResults.WLoc.replace('N',0,inplace=True)\n",
    "RegSeasonResults.WLoc.replace('A',-1,inplace=True)\n",
    "RegSeasonResults.WLoc.replace('H',1,inplace=True)\n",
    "\n"
   ]
  },
  {
   "cell_type": "code",
   "execution_count": 131,
   "metadata": {
    "collapsed": true
   },
   "outputs": [],
   "source": [
    "seasonNumber = 1985\n",
    "index_for_each_year = []\n",
    "index_for_each_year.append(0)\n",
    "for i in RegSeasonResults.iterrows():\n",
    "    if(i[1].Season == seasonNumber+1):\n",
    "        index_for_each_year.append(i[0])\n",
    "        seasonNumber = seasonNumber + 1\n",
    "index_for_each_year.append(len(RegSeasonResults)-1)\n"
   ]
  },
  {
   "cell_type": "code",
   "execution_count": 132,
   "metadata": {
    "collapsed": true
   },
   "outputs": [],
   "source": [
    "RegSeasonResults['WElo'] = 0.000000000000 \n",
    "RegSeasonResults['LElo'] = 0.000000000000\n",
    "seasonNumber = 1985\n",
    "for i in range(len(index_for_each_year)-1):\n",
    "    temp = RegSeasonResults[index_for_each_year[i]:index_for_each_year[i+1]]\n",
    "    elo_dict = {}\n",
    "    k = 5    \n",
    "    for j in teams.TeamID:\n",
    "        elo_dict[j] = 0\n",
    "    x = 0\n",
    "    for j in temp.iterrows():\n",
    "    ###########################################################################################\n",
    "    #######New logic####### \n",
    "    \n",
    "        winner_rating = pow(10,(elo_dict[j[1].WTeamID])/400)\n",
    "        loser_rating = pow(10,(elo_dict[j[1].LTeamID])/400)\n",
    "    \n",
    "        expected_winner = winner_rating/(winner_rating+loser_rating) \n",
    "        expected_loser = loser_rating/(winner_rating+loser_rating)\n",
    "    \n",
    "        winner = 1\n",
    "        loser = 0\n",
    "    \n",
    "        new_winner_rating = elo_dict[j[1].WTeamID] + k * (winner-expected_winner)\n",
    "        new_loser_rating = elo_dict[j[1].LTeamID] + k * (loser-expected_loser)\n",
    "\n",
    "\n",
    "        elo_dict[j[1].WTeamID] = new_winner_rating\n",
    "        elo_dict[j[1].LTeamID] = new_loser_rating\n",
    "\n",
    "        \n",
    "        temp.iat[x,9] = new_winner_rating\n",
    "        temp.iat[x,10] = new_loser_rating\n",
    "\n",
    "        x = x + 1\n",
    "    \n",
    "    row_incr = 0\n",
    "    teams[str(i+1985)] = 0.000000000000\n",
    "    for row in teams.iterrows():\n",
    "        teams.iat[row_incr,i+4] = elo_dict[row[1].TeamID]\n",
    "        row_incr = row_incr + 1\n",
    "#     if (j[1].WTeamID == 1102 or j[1].LTeamID == 1102):\n",
    "#         print (j[1].WScore)\n",
    "#         print (j[1].LScore)\n",
    "#         print(elo_dict[1102])\n",
    "    \n",
    "    "
   ]
  },
  {
   "cell_type": "code",
   "execution_count": 133,
   "metadata": {
    "collapsed": true
   },
   "outputs": [],
   "source": [
    "Submission = pd.read_csv('/Users/anvitb/Downloads/SampleTourney2018/SampleSubmissionStage2_SampleTourney2018.csv')"
   ]
  },
  {
   "cell_type": "code",
   "execution_count": 134,
   "metadata": {},
   "outputs": [],
   "source": [
    "Submission['Welo'] = 0.000000000\n",
    "Submission['Lelo'] = 0.000000000\n",
    "Submission['normWelo'] = 0.000000000\n",
    "Submission['normLelo'] = 0.000000000"
   ]
  },
  {
   "cell_type": "code",
   "execution_count": 135,
   "metadata": {
    "scrolled": true
   },
   "outputs": [],
   "source": [
    "minelo = 100\n",
    "maxelo = -100\n",
    "team_min = 0\n",
    "team_max = 0\n",
    "for i in Submission.iterrows():\n",
    "    game = i[1].ID.split('_')\n",
    "    temp = np.array(teams[teams['TeamID']==int(game[1])]['2018'])\n",
    "    if (temp[0]<minelo):\n",
    "        minelo = temp[0]\n",
    "        t_min = int(game[1])\n",
    "    if (temp[0]>maxelo):\n",
    "        maxelo = temp[0]\n",
    "        t_max = int(game[1])\n",
    "    \n",
    "  \n",
    "    \n",
    "    "
   ]
  },
  {
   "cell_type": "code",
   "execution_count": 136,
   "metadata": {},
   "outputs": [],
   "source": [
    "counter = 0\n",
    "for i in Submission.iterrows():\n",
    "    game = i[1].ID.split('_')\n",
    "    temp1 = np.array(teams[teams['TeamID']==int(game[1])]['2018'])\n",
    "    temp2 = np.array(teams[teams['TeamID']==int(game[2])]['2018'])\n",
    "    Submission.iat[counter,2] = temp1\n",
    "    Submission.iat[counter,3] = temp2\n",
    "    counter = counter+1\n"
   ]
  },
  {
   "cell_type": "code",
   "execution_count": 137,
   "metadata": {
    "collapsed": true
   },
   "outputs": [],
   "source": [
    "range_of_elo = maxelo - minelo"
   ]
  },
  {
   "cell_type": "code",
   "execution_count": 138,
   "metadata": {},
   "outputs": [],
   "source": [
    "counter2 = 0\n",
    "for i in Submission.iterrows():\n",
    "    Submission.iat[counter2,4] = (i[1].Welo - minelo)/range_of_elo\n",
    "    Submission.iat[counter2,5] = (i[1].Lelo - minelo)/range_of_elo\n",
    "    counter2 = counter2+1"
   ]
  },
  {
   "cell_type": "code",
   "execution_count": 139,
   "metadata": {},
   "outputs": [],
   "source": [
    "finalfile = Submission"
   ]
  },
  {
   "cell_type": "code",
   "execution_count": 140,
   "metadata": {},
   "outputs": [],
   "source": [
    "finalfile['Pred'] = finalfile['normWelo']/(finalfile['normWelo']+finalfile['normLelo'])"
   ]
  },
  {
   "cell_type": "code",
   "execution_count": 144,
   "metadata": {},
   "outputs": [],
   "source": [
    "finalfile = finalfile.drop(['Welo','Lelo','normWelo','normLelo'],axis=1)"
   ]
  },
  {
   "cell_type": "code",
   "execution_count": 146,
   "metadata": {},
   "outputs": [],
   "source": [
    "finalfile.to_csv(\"/Users/anvitb/Desktop/KaggleNCAAMen/MarchMadness/submitfilestage2.csv\")"
   ]
  },
  {
   "cell_type": "code",
   "execution_count": null,
   "metadata": {
    "collapsed": true
   },
   "outputs": [],
   "source": []
  },
  {
   "cell_type": "code",
   "execution_count": null,
   "metadata": {
    "collapsed": true
   },
   "outputs": [],
   "source": []
  },
  {
   "cell_type": "code",
   "execution_count": null,
   "metadata": {
    "collapsed": true
   },
   "outputs": [],
   "source": []
  },
  {
   "cell_type": "code",
   "execution_count": null,
   "metadata": {
    "collapsed": true
   },
   "outputs": [],
   "source": []
  },
  {
   "cell_type": "code",
   "execution_count": null,
   "metadata": {
    "collapsed": true
   },
   "outputs": [],
   "source": []
  },
  {
   "cell_type": "code",
   "execution_count": null,
   "metadata": {
    "collapsed": true
   },
   "outputs": [],
   "source": []
  },
  {
   "cell_type": "code",
   "execution_count": null,
   "metadata": {
    "collapsed": true
   },
   "outputs": [],
   "source": []
  },
  {
   "cell_type": "code",
   "execution_count": 8,
   "metadata": {
    "collapsed": true,
    "scrolled": true
   },
   "outputs": [],
   "source": [
    "for j in temp.iterrows():\n",
    "    ###########################################################################################\n",
    "    #######New logic####### \n",
    "    \n",
    "    winner_rating = pow(10,(elo_dict[j[1].WTeamID])/400)\n",
    "    loser_rating = pow(10,(elo_dict[j[1].LTeamID])/400)\n",
    "    \n",
    "    expected_winner = winner_rating/(winner_rating+loser_rating) \n",
    "    expected_loser = loser_rating/(winner_rating+loser_rating)\n",
    "    \n",
    "    winner = 1\n",
    "    loser = 0\n",
    "    \n",
    "    new_winner_rating = elo_dict[j[1].WTeamID] + k * (winner-expected_winner)\n",
    "    new_loser_rating = elo_dict[j[1].LTeamID] + k * (loser-expected_loser)\n",
    "    ###########################################################################################\n",
    "#     a =  1/(1+pow(10,((elo_dict[j[1].WTeamID]-elo_dict[j[1].LTeamID])/100)))\n",
    "#     b =  1/(1+pow(10,((elo_dict[j[1].LTeamID]-elo_dict[j[1].WTeamID])/100)))\n",
    "#     a_new = elo_dict[j[1].WTeamID] + k*(j[1].WScore/100 - a)\n",
    "#     b_new = elo_dict[j[1].LTeamID] - k*(j[1].LScore/100 - b)\n",
    "    elo_dict[j[1].WTeamID] = new_winner_rating\n",
    "    elo_dict[j[1].LTeamID] = new_loser_rating\n",
    "\n",
    "    temp.iat[i,9] = new_winner_rating\n",
    "    temp.iat[i,10] = new_loser_rating\n",
    "\n",
    "    i = i + 1\n",
    "#     if (j[1].WTeamID == 1102 or j[1].LTeamID == 1102):\n",
    "#         print (j[1].WScore)\n",
    "#         print (j[1].LScore)\n",
    "#         print(elo_dict[1102])\n",
    "    "
   ]
  }
 ],
 "metadata": {
  "kernelspec": {
   "display_name": "Python 3",
   "language": "python",
   "name": "python3"
  },
  "language_info": {
   "codemirror_mode": {
    "name": "ipython",
    "version": 3
   },
   "file_extension": ".py",
   "mimetype": "text/x-python",
   "name": "python",
   "nbconvert_exporter": "python",
   "pygments_lexer": "ipython3",
   "version": "3.6.1"
  }
 },
 "nbformat": 4,
 "nbformat_minor": 2
}
